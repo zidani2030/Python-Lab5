{
 "cells": [
  {
   "cell_type": "code",
   "execution_count": 2,
   "id": "e8afd30e-3a19-4c95-8d00-5a5366fa48e6",
   "metadata": {},
   "outputs": [
    {
     "name": "stdout",
     "output_type": "stream",
     "text": [
      "5 4 3 2 1 \n",
      "4 3 2 1 \n",
      "3 2 1 \n",
      "2 1 \n",
      "1 \n"
     ]
    }
   ],
   "source": [
    "def pattern (n):\n",
    "    for i in range (n ,0 ,-1):\n",
    "        for j in range (i , 0 , -1):\n",
    "            print(j, end=' ')\n",
    "        print()\n",
    "\n",
    "pattern(5)"
   ]
  },
  {
   "cell_type": "code",
   "execution_count": null,
   "id": "2c1399e8-f7f3-4c9b-b709-04d8fa1198a7",
   "metadata": {},
   "outputs": [],
   "source": []
  }
 ],
 "metadata": {
  "kernelspec": {
   "display_name": "Python 3 (ipykernel)",
   "language": "python",
   "name": "python3"
  },
  "language_info": {
   "codemirror_mode": {
    "name": "ipython",
    "version": 3
   },
   "file_extension": ".py",
   "mimetype": "text/x-python",
   "name": "python",
   "nbconvert_exporter": "python",
   "pygments_lexer": "ipython3",
   "version": "3.9.13"
  }
 },
 "nbformat": 4,
 "nbformat_minor": 5
}
